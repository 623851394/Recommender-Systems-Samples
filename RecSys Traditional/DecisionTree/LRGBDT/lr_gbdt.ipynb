{
 "cells": [
  {
   "cell_type": "code",
   "execution_count": 50,
   "metadata": {},
   "outputs": [],
   "source": [
    "from sklearn.datasets import load_iris\n",
    "import numpy as np\n",
    "import lightgbm as lgb\n",
    "import pandas as pd\n",
    "import warnings\n",
    "warnings.filterwarnings('ignore')"
   ]
  },
  {
   "cell_type": "code",
   "execution_count": 51,
   "metadata": {},
   "outputs": [],
   "source": [
    "## build data\n",
    "iris = pd.DataFrame(load_iris().data)\n",
    "iris.columns = ['SepalLengthCm','SepalWidthCm','PetalLengthCm','PetalWidthCm']\n",
    "iris['Species'] = load_iris().target%2"
   ]
  },
  {
   "cell_type": "code",
   "execution_count": 52,
   "metadata": {},
   "outputs": [],
   "source": [
    "## train test split\n",
    "train=iris[0:130]\n",
    "test=iris[130:]\n",
    "X_train=train.filter(items=['SepalLengthCm','SepalWidthCm','PetalLengthCm','PetalWidthCm'])\n",
    "X_test=test.filter(items=['SepalLengthCm','SepalWidthCm','PetalLengthCm','PetalWidthCm'])\n",
    "y_train=train[[train.Species.name]]\n",
    "y_test=test[[test.Species.name]]"
   ]
  },
  {
   "cell_type": "code",
   "execution_count": 105,
   "metadata": {},
   "outputs": [],
   "source": [
    "## build lgb model\n",
    "lgb_train = lgb.Dataset(X_train.as_matrix(), \n",
    "                        y_train.values.reshape(y_train.shape[0],))\n",
    "lgb_eval = lgb.Dataset(X_test.as_matrix(), \n",
    "                       y_test.values.reshape(y_test.shape[0],), \n",
    "                       reference=lgb_train)\n",
    "params = {\n",
    "    'task': 'train',\n",
    "    'boosting_type': 'gbdt',\n",
    "    'objective': 'binary',\n",
    "    'metric': {'binary_logloss'},\n",
    "    'num_leaves': 16,\n",
    "    'num_trees':100,\n",
    "    'learning_rate': 0.1,\n",
    "    'feature_fraction': 0.9,\n",
    "    'bagging_fraction': 0.8,\n",
    "    'bagging_freq': 5,\n",
    "    'verbose': 0\n",
    "}\n",
    "gbm = lgb.train(params=params,\n",
    "                train_set=lgb_train,\n",
    "                num_boost_round=3000,\n",
    "                valid_sets=None)\n",
    "\n"
   ]
  },
  {
   "cell_type": "code",
   "execution_count": 110,
   "metadata": {},
   "outputs": [],
   "source": [
    "# build train matrix\n",
    "num_leaf = 16\n",
    "\n",
    "y_pred = gbm.predict(X_train,raw_score=False,pred_leaf=True)\n",
    "\n",
    "transformed_training_matrix = np.zeros([len(y_pred),\n",
    "                                        len(y_pred[0]) * num_leaf],\n",
    "                                       dtype=np.int64)\n",
    "\n",
    "for i in range(0,len(y_pred)):\n",
    "    temp = np.arange(len(y_pred[0])) * num_leaf + np.array(y_pred[i]);\n",
    "    transformed_training_matrix[i][temp] += 1\n"
   ]
  },
  {
   "cell_type": "code",
   "execution_count": 111,
   "metadata": {},
   "outputs": [
    {
     "name": "stdout",
     "output_type": "stream",
     "text": [
      "[0 0 0 0 0 0 0 0 0 0 0 4 0 0 4 0 0 0 0 0 0 0 0 0 0 0 0 0 0 0 0 0 0 1 1 3 0\n",
      " 3 0 0 0 0 0 0 0 3 4 3 3 3 0 0 0 0 2 2 3 3 2 3 3 3 1 1 3 3 2 3 1 3 0 3 3 3\n",
      " 0 2 3 2 3 2 2 2 2 1 1 3 3 0 1 1 3 2 3 0 3 2 0 1 3 3] (130, 100)\n"
     ]
    }
   ],
   "source": [
    "print(y_pred[0], y_pred.shape)"
   ]
  },
  {
   "cell_type": "code",
   "execution_count": 68,
   "metadata": {},
   "outputs": [],
   "source": [
    "# build test matrix\n",
    "y_pred = gbm.predict(X_test,pred_leaf=True)\n",
    "transformed_testing_matrix = np.zeros([len(y_pred),\n",
    "                                       len(y_pred[0]) * num_leaf],\n",
    "                                      dtype=np.int64)\n",
    "for i in range(0,len(y_pred)):\n",
    "\ttemp = np.arange(len(y_pred[0])) * num_leaf + np.array(y_pred[i])\n",
    "\ttransformed_testing_matrix[i][temp] += 1"
   ]
  },
  {
   "cell_type": "code",
   "execution_count": 69,
   "metadata": {},
   "outputs": [
    {
     "name": "stdout",
     "output_type": "stream",
     "text": [
      "Acc of test 0.9\n",
      "Acc of test 0.9\n",
      "Acc of test 0.9\n",
      "Acc of test 0.95\n",
      "Acc of test 0.95\n",
      "Acc of test 0.9\n",
      "Acc of test 0.9\n"
     ]
    }
   ],
   "source": [
    "# logistic regression\n",
    "from sklearn.linear_model import LogisticRegression\n",
    "from sklearn.metrics import accuracy_score\n",
    "\n",
    "label_train = y_train.values.reshape(y_train.shape[0],)\n",
    "label_test = y_test.values.reshape(y_test.shape[0],)\n",
    "\n",
    "c = np.array([1,0.5,0.1,0.05,0.01,0.005,0.001])\n",
    "for t in range(0,len(c)):\n",
    "    lm = LogisticRegression(penalty='l2',C=c[t]) # logestic model construction\n",
    "    lm.fit(transformed_training_matrix,y_train.values.reshape(y_train.shape[0],))  # fitting the data\n",
    "    y_pred_est = lm.predict(transformed_testing_matrix)   # Give the probabilty on each label\n",
    "    acc =accuracy_score(label_test, y_pred_est)\n",
    "    print('Acc of test', acc)"
   ]
  },
  {
   "cell_type": "code",
   "execution_count": null,
   "metadata": {},
   "outputs": [],
   "source": []
  }
 ],
 "metadata": {
  "kernelspec": {
   "display_name": "Python 3",
   "language": "python",
   "name": "python3"
  },
  "language_info": {
   "codemirror_mode": {
    "name": "ipython",
    "version": 3
   },
   "file_extension": ".py",
   "mimetype": "text/x-python",
   "name": "python",
   "nbconvert_exporter": "python",
   "pygments_lexer": "ipython3",
   "version": "3.6.4"
  }
 },
 "nbformat": 4,
 "nbformat_minor": 2
}
