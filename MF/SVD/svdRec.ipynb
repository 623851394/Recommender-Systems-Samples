{
 "cells": [
  {
   "cell_type": "code",
   "execution_count": 62,
   "metadata": {},
   "outputs": [],
   "source": [
    "# import data:\n",
    "\n",
    "from numpy import *\n",
    "import numpy.linalg as la\n",
    "\n",
    "def loadExtData():\n",
    "    # mat A\n",
    "    return [[4,4,0,2,2],\n",
    "            [4,0,0,3,3],\n",
    "            [4,0,0,1,1],\n",
    "            [1,1,1,2,0],\n",
    "            [2,2,2,0,0],\n",
    "            [1,1,1,0,0],\n",
    "            [5,5,5,0,0]]\n",
    "\n",
    "# similarity calculation\n",
    "def excludSim(inA,inB):\n",
    "    '''\n",
    "    use l2 norm to calculate similarity\n",
    "    normalize -> (0,1]\n",
    "    '''\n",
    "    dis = 1.0/(1.0+la.norm(inA-inB))\n",
    "    return dis\n",
    "\n",
    "def pearsSim(inA,inB):\n",
    "    '''\n",
    "    user pearson coefficient to calculate similarity\n",
    "    normalize -> (0,1]\n",
    "    '''\n",
    "    if(len(inA) < 3):return 1.0\n",
    "    dis = 0.5+0.5*corrcoef(inA,inB,rowvar=0)[0][1]\n",
    "    return dis\n",
    "\n",
    "def cosSim(inA,inB):\n",
    "    '''\n",
    "    cosine similarity\n",
    "    normalize -> (0,1]\n",
    "    '''\n",
    "    tmp = float(inA.T*inB)\n",
    "    dis = 0.5+0.5*tmp/(la.norm(inA)*la.norm(inB))\n",
    "    return dis\n",
    "\n",
    "def standEst(dataMat, user, simMean, item):\n",
    "    '''\n",
    "    calculate user's score for item\n",
    "    simMean:similarity calculation method \n",
    "    '''\n",
    "    if(dataMat[user, item] != 0): return dataMat[user, item]\n",
    "    n = shape(dataMat)[1]  # number of items\n",
    "    simTotal = 0.0\n",
    "    ratSimTotal = 0.0\n",
    "    for i in range(n):\n",
    "        userRating = dataMat[user, i]\n",
    "        if(userRating == 0 or i == item): continue\n",
    "        # search for users that ever rate two items\n",
    "        overLap = nonzero(logical_and(dataMat[:,i].A>0, dataMat[:,item].A>0))[0]\n",
    "        if(len(overLap) == 0): similarity = 0\n",
    "        else: similarity = simMean(dataMat[overLap, i], dataMat[overLap, item])\n",
    "        simTotal += similarity\n",
    "        ratSimTotal += similarity * userRating\n",
    "    if(simTotal == 0):return 0\n",
    "    else: return ratSimTotal / simTotal # return user's score for item\n",
    "\n",
    "def recommend(dataMat, user, N=3, simMean=cosSim, estTestMean=standEst):\n",
    "    '''\n",
    "    recommend n items to user based on the specific dataMat\n",
    "    simMean:similarity calculation method \n",
    "    estTestMean:cal user score of item\n",
    "    '''\n",
    "    unRatedItem = nonzero(dataMat[user,:].A == 0)[1] # .A change matrix to array\n",
    "    if(len(unRatedItem) == 0):print('There is nothing to recommend')\n",
    "    retScores = [] # scores of unRatedItems\n",
    "    for item in unRatedItem:\n",
    "        itemScore=estTestMean(dataMat, user, simMean, item) # predicton of user for item\n",
    "        retScores.append((item, itemScore))\n",
    "    return sorted(retScores, key=lambda j:j[1], reverse=True)[:N] # return the top N high rated items"
   ]
  },
  {
   "cell_type": "code",
   "execution_count": 63,
   "metadata": {},
   "outputs": [
    {
     "name": "stdout",
     "output_type": "stream",
     "text": [
      "[(2, 2.5), (1, 2.0243290220056256)]\n"
     ]
    }
   ],
   "source": [
    "myData = mat(loadExtData())\n",
    "ans = recommend(myData, 2)\n",
    "print(ans)"
   ]
  },
  {
   "cell_type": "code",
   "execution_count": 64,
   "metadata": {
    "scrolled": true
   },
   "outputs": [
    {
     "name": "stdout",
     "output_type": "stream",
     "text": [
      "[11.90341619  5.99130503  2.59510658  1.92662869  0.98309238] \n",
      "\n",
      "[[ 3.75882897e+00  3.93552733e+00  3.14268322e-01  2.41213328e+00\n",
      "   2.03313584e+00]\n",
      " [ 4.37098660e+00  7.04080744e-02 -4.62953777e-01  2.71367176e+00\n",
      "   2.58910050e+00]\n",
      " [ 3.51434619e+00 -9.90889288e-02  6.10971280e-01  1.45843497e+00\n",
      "   1.45134300e+00]\n",
      " [ 1.42793888e+00  1.16461243e+00  4.06617551e-01  6.61942661e-01\n",
      "   5.69400307e-01]\n",
      " [ 2.02506118e+00  2.00314495e+00  1.96987305e+00  1.29268899e-04\n",
      "  -4.79169143e-02]\n",
      " [ 1.01253059e+00  1.00157247e+00  9.84936526e-01  6.46344496e-05\n",
      "  -2.39584571e-02]\n",
      " [ 5.06265296e+00  5.00786237e+00  4.92468263e+00  3.23172248e-04\n",
      "  -1.19792286e-01]]\n"
     ]
    }
   ],
   "source": [
    "# create A=U,S,V\n",
    "dataMat = loadExtData()\n",
    "U,S,V = la.svd(dataMat)\n",
    "print(S,\"\\n\")\n",
    "\n",
    "# restore A\n",
    "S_3 = mat([[S[0],0,0],[0,S[1],0],[0,0,S[2]]])\n",
    "restoreData = U[:,:3]*S_3*V[:3,:]\n",
    "print(restoreData)"
   ]
  },
  {
   "cell_type": "code",
   "execution_count": 139,
   "metadata": {},
   "outputs": [],
   "source": [
    "# recommender items based on svd\n",
    "def loadExtData2():\n",
    "    return [[0, 0, 0, 0, 0, 4, 0, 0, 0, 0, 5],\n",
    "            [0, 0, 0, 3, 0, 4, 0, 0, 0, 0, 3],\n",
    "            [0, 0, 0, 0, 4, 0, 0, 1, 0, 4, 0],\n",
    "            [3, 3, 4, 0, 0, 0, 0, 2, 2, 0, 0],\n",
    "            [5, 4, 5, 0, 0, 0, 0, 5, 5, 0, 0],\n",
    "            [0, 0, 0, 0, 5, 0, 1, 0, 0, 5, 0],\n",
    "            [4, 3, 4, 0, 0, 0, 0, 5, 5, 0, 1],\n",
    "            [0, 0, 0, 4, 0, 4, 0, 0, 0, 0, 4],\n",
    "            [0, 0, 0, 2, 0, 2, 5, 0, 0, 1, 2],\n",
    "            [0, 0, 0, 0, 5, 0, 0, 0, 0, 4, 0],\n",
    "            [1, 0, 0, 0, 0, 0, 0, 1, 2, 0, 0],\n",
    "            [1, 0, 0, 0, 0, 0, 0, 1, 2, 0, 0]]\n",
    "\n",
    "def svdEst(dataMat, user, simMeas, item, k):\n",
    "    if(dataMat[user, item] != 0): return dataMat[user, item]\n",
    "    n = shape(dataMat)[1]   # n,11\n",
    "    simTotal = 0.0;ratSimTotal = 0.0\n",
    "    U, S, V = la.svd(dataMat)\n",
    "    S3 = mat(eye(k) * S[:k]) # create a diagonal matrix to save 3 eigenvalues in S\n",
    "    xformedItems = dataMat.T * U[:, :k] * S3.I # reduce dimensions of items\n",
    "    for j in range(n):\n",
    "        userRating = dataMat[user, j]\n",
    "        if(userRating == 0 or j == item): continue\n",
    "        similarity = simMeas(xformedItems[item, :].T, xformedItems[j, :].T)\n",
    "        simTotal += similarity\n",
    "        ratSimTotal += similarity * userRating\n",
    "    if(simTotal == 0):  return 0\n",
    "    else:   return ratSimTotal / simTotal \n",
    "\n",
    "def svdRecommend(dataMat, user, N=3, simMean=cosSim, estTestMean=svdEst, k=3):\n",
    "    '''\n",
    "    recommend n items to user based on the specific dataMat\n",
    "    simMean:similarity calculation method \n",
    "    estTestMean:cal user score of item\n",
    "    k:k controls the number of eigenvalues\n",
    "    '''\n",
    "    unRatedItem = nonzero(dataMat[user,:].A == 0)[1] # .A change matrix to array\n",
    "    if(len(unRatedItem) == 0):print('There is nothing to recommend')\n",
    "    retScores = [] # scores of unRatedItems\n",
    "    for item in unRatedItem:\n",
    "        itemScore=estTestMean(dataMat, user, simMean, item, k=k) # predicton of user for item\n",
    "        retScores.append((item, itemScore))\n",
    "    return sorted(retScores, key=lambda j:j[1], reverse=True)[:N] # return the top N high rated items\n",
    "\n"
   ]
  },
  {
   "cell_type": "code",
   "execution_count": 140,
   "metadata": {},
   "outputs": [],
   "source": [
    "myData = mat(loadExtData2())\n",
    "U, S, V = la.svd(myData)\n",
    "S *= S\n",
    "threshold = sum(S) * 0.9\n",
    "k = 0\n",
    "\n",
    "for i in range(S.shape[0]+1):\n",
    "    if(sum(S[:i]) >= threshold):\n",
    "        k = i\n",
    "        break"
   ]
  },
  {
   "cell_type": "code",
   "execution_count": 141,
   "metadata": {},
   "outputs": [
    {
     "name": "stdout",
     "output_type": "stream",
     "text": [
      "[(10, 2.79769633703307), (5, 2.797504949270238), (3, 2.7972065264680634)]\n"
     ]
    }
   ],
   "source": [
    "svdItems = svdRecommend(myData, user=3, estTestMean=svdEst, k=k)\n",
    "print(svdItems)"
   ]
  },
  {
   "cell_type": "code",
   "execution_count": null,
   "metadata": {},
   "outputs": [],
   "source": []
  }
 ],
 "metadata": {
  "kernelspec": {
   "display_name": "Python 3",
   "language": "python",
   "name": "python3"
  },
  "language_info": {
   "codemirror_mode": {
    "name": "ipython",
    "version": 3
   },
   "file_extension": ".py",
   "mimetype": "text/x-python",
   "name": "python",
   "nbconvert_exporter": "python",
   "pygments_lexer": "ipython3",
   "version": "3.6.4"
  }
 },
 "nbformat": 4,
 "nbformat_minor": 2
}
